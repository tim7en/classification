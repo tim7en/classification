{
 "cells": [
  {
   "cell_type": "markdown",
   "id": "7c2ba718",
   "metadata": {},
   "source": [
    "# Step 1: Setup & Authentication"
   ]
  },
  {
   "cell_type": "code",
   "execution_count": 2,
   "id": "af53ec8c",
   "metadata": {},
   "outputs": [
    {
     "name": "stdout",
     "output_type": "stream",
     "text": [
      "🔧 Installing required packages...\n",
      "✅ Successfully installed earthengine-api>=0.1.350\n",
      "✅ Successfully installed geemap>=0.32.0\n",
      "✅ Successfully installed geopandas==0.13.2\n",
      "✅ Successfully installed fiona==1.9.4\n",
      "✅ Successfully installed pyproj>=3.5.0\n",
      "✅ Successfully installed rasterio>=1.3.0\n",
      "✅ Successfully installed scikit-learn>=1.3.0\n",
      "✅ Successfully installed joblib>=1.3.0\n",
      "✅ Successfully installed matplotlib>=3.6.0\n",
      "✅ Successfully installed pandas>=1.5.0\n",
      "✅ Successfully installed numpy>=1.22.0\n",
      "\n",
      "✅ All packages installed successfully!\n"
     ]
    }
   ],
   "source": [
    "# Step 1.1: Install required packages\n",
    "import subprocess\n",
    "import sys\n",
    "\n",
    "def install_package(package):\n",
    "    \"\"\"Install a package using pip\"\"\"\n",
    "    try:\n",
    "        subprocess.check_call([sys.executable, \"-m\", \"pip\", \"install\", package])\n",
    "        print(f\"✅ Successfully installed {package}\")\n",
    "    except subprocess.CalledProcessError as e:\n",
    "        print(f\"❌ Failed to install {package}: {e}\")\n",
    "\n",
    "# List of required packages with pinned versions for stability\n",
    "required_packages = [\n",
    "    \"earthengine-api>=0.1.350\",\n",
    "    \"geemap>=0.32.0\", \n",
    "    \"geopandas==0.13.2\",  # Pinned for stability\n",
    "    \"fiona==1.9.4\",      # Pinned for compatibility with geopandas\n",
    "    \"pyproj>=3.5.0\",     # Pinned for compatibility\n",
    "    \"rasterio>=1.3.0\",\n",
    "    \"scikit-learn>=1.3.0\",\n",
    "    \"joblib>=1.3.0\",\n",
    "    \"matplotlib>=3.6.0\",\n",
    "    \"pandas>=1.5.0\",\n",
    "    \"numpy>=1.22.0\"\n",
    "]\n",
    "\n",
    "print(\"🔧 Installing required packages...\")\n",
    "for package in required_packages:\n",
    "    install_package(package)\n",
    "\n",
    "print(\"\\n✅ All packages installed successfully!\")"
   ]
  },
  {
   "cell_type": "code",
   "execution_count": 3,
   "id": "00266e9b",
   "metadata": {},
   "outputs": [
    {
     "name": "stdout",
     "output_type": "stream",
     "text": [
      "📂 Project root: d:\\Dev\\classification\n",
      "💾 Training data directory: d:\\Dev\\classification\\data\\training\n",
      "📚 All libraries imported successfully!\n"
     ]
    }
   ],
   "source": [
    "# Step 1.2: Import libraries and set up paths\n",
    "import os\n",
    "import sys\n",
    "import warnings\n",
    "from pathlib import Path\n",
    "warnings.filterwarnings('ignore')\n",
    "\n",
    "# Core libraries\n",
    "import numpy as np\n",
    "import pandas as pd\n",
    "from datetime import datetime\n",
    "\n",
    "# Geospatial libraries\n",
    "import ee\n",
    "import geemap\n",
    "import geopandas as gpd\n",
    "\n",
    "# Set up project directories\n",
    "project_root = Path.cwd().parent\n",
    "data_dir = project_root / \"data\"\n",
    "results_dir = data_dir / \"results\"\n",
    "training_dir = str(data_dir / \"training\") # GEE prefers string paths\n",
    "\n",
    "# Create directories if they don't exist\n",
    "results_dir.mkdir(parents=True, exist_ok=True)\n",
    "\n",
    "print(f\"📂 Project root: {project_root}\")\n",
    "print(f\"💾 Training data directory: {training_dir}\")\n",
    "print(\"📚 All libraries imported successfully!\")"
   ]
  },
  {
   "cell_type": "code",
   "execution_count": 4,
   "id": "426304e2",
   "metadata": {},
   "outputs": [
    {
     "data": {
      "text/html": [
       "\n",
       "            <style>\n",
       "                .geemap-dark {\n",
       "                    --jp-widgets-color: white;\n",
       "                    --jp-widgets-label-color: white;\n",
       "                    --jp-ui-font-color1: white;\n",
       "                    --jp-layout-color2: #454545;\n",
       "                    background-color: #383838;\n",
       "                }\n",
       "\n",
       "                .geemap-dark .jupyter-button {\n",
       "                    --jp-layout-color3: #383838;\n",
       "                }\n",
       "\n",
       "                .geemap-colab {\n",
       "                    background-color: var(--colab-primary-surface-color, white);\n",
       "                }\n",
       "\n",
       "                .geemap-colab .jupyter-button {\n",
       "                    --jp-layout-color3: var(--colab-primary-surface-color, white);\n",
       "                }\n",
       "            </style>\n",
       "            "
      ],
      "text/plain": [
       "<IPython.core.display.HTML object>"
      ]
     },
     "metadata": {},
     "output_type": "display_data"
    },
    {
     "name": "stdout",
     "output_type": "stream",
     "text": [
      "✅ Google Earth Engine is already authenticated and initialized.\n",
      "🕐 Workflow timestamp: 20250816_225310\n"
     ]
    }
   ],
   "source": [
    "# Step 1.3: Authenticate and initialize Google Earth Engine\n",
    "try:\n",
    "    ee.Initialize()\n",
    "    print('✅ Google Earth Engine is already authenticated and initialized.')\n",
    "    gee_ready = True\n",
    "except Exception as e:\n",
    "    print('🔑 Authenticating Google Earth Engine...')\n",
    "    try:\n",
    "        ee.Authenticate()\n",
    "        ee.Initialize()\n",
    "        print('✅ Google Earth Engine authenticated and initialized successfully!')\n",
    "        gee_ready = True\n",
    "    except Exception as auth_error:\n",
    "        print(f'❌ GEE Authentication failed: {auth_error}')\n",
    "        gee_ready = False\n",
    "\n",
    "# Set up timestamp for this run\n",
    "timestamp = datetime.now().strftime('%Y%m%d_%H%M%S')\n",
    "print(f\"🕐 Workflow timestamp: {timestamp}\")"
   ]
  },
  {
   "cell_type": "markdown",
   "id": "6c8581ae",
   "metadata": {},
   "source": [
    "# Step 2: Configure Classes and Contextual Rules"
   ]
  },
  {
   "cell_type": "code",
   "execution_count": 6,
   "id": "a65d7a55",
   "metadata": {},
   "outputs": [
    {
     "data": {
      "text/html": [
       "\n",
       "            <style>\n",
       "                .geemap-dark {\n",
       "                    --jp-widgets-color: white;\n",
       "                    --jp-widgets-label-color: white;\n",
       "                    --jp-ui-font-color1: white;\n",
       "                    --jp-layout-color2: #454545;\n",
       "                    background-color: #383838;\n",
       "                }\n",
       "\n",
       "                .geemap-dark .jupyter-button {\n",
       "                    --jp-layout-color3: #383838;\n",
       "                }\n",
       "\n",
       "                .geemap-colab {\n",
       "                    background-color: var(--colab-primary-surface-color, white);\n",
       "                }\n",
       "\n",
       "                .geemap-colab .jupyter-button {\n",
       "                    --jp-layout-color3: var(--colab-primary-surface-color, white);\n",
       "                }\n",
       "            </style>\n",
       "            "
      ],
      "text/plain": [
       "<IPython.core.display.HTML object>"
      ]
     },
     "metadata": {},
     "output_type": "display_data"
    },
    {
     "name": "stdout",
     "output_type": "stream",
     "text": [
      "🎯 Uzbekistan Land Cover Classes (12 classes):\n",
      "    1. Residential        - APPHOUSE residential areas\n",
      "    2. Agriculture        - Agricultural fields and cropland\n",
      "    3. Buildings          - General buildings and structures\n",
      "    4. Forest             - Forest agency lands (context-dependent: desert/steppe in flat areas, juniper/shrubs in mountains)\n",
      "    5. Residential_Private - High-resolution private residential areas\n",
      "    6. Roads_Highways     - Major highways and road networks\n",
      "    7. Land_Stock         - Land stock and reserves\n",
      "    8. Non_Residential    - Non-residential buildings and facilities\n",
      "    9. Protected          - Protected areas (context-dependent: varies by elevation and terrain)\n",
      "   10. Railways           - Railway lines and infrastructure\n",
      "   11. Shared_Lands       - Shared and communal lands\n",
      "   12. Water              - Water bodies, rivers, and lakes\n",
      "\n",
      "📍 Training data file: landcover_training.geojson\n",
      "🏔️  Context-dependent classes: Forest (4), Protected (9)\n",
      "📊 Features: Spectral bands + NDVI + Elevation + Terrain context\n"
     ]
    }
   ],
   "source": [
    "# Configure the 12 specific land cover classes based on your training data\n",
    "UZBEKISTAN_LAND_COVER_CLASSES = {\n",
    "    1: {'name': 'Residential', 'description': 'APPHOUSE residential areas', 'source': 'APPHOUSE_production_ready'},\n",
    "    2: {'name': 'Agriculture', 'description': 'Agricultural fields and cropland', 'source': 'AgricultureFields_production_ready'},\n",
    "    3: {'name': 'Buildings', 'description': 'General buildings and structures', 'source': 'Buildings_production_ready'},\n",
    "    4: {'name': 'Forest', 'description': 'Forest agency lands (context-dependent: desert/steppe in flat areas, juniper/shrubs in mountains)', 'source': 'ForestAgencyLands_production_ready'},\n",
    "    5: {'name': 'Residential_Private', 'description': 'High-resolution private residential areas', 'source': 'HighResPrivate_production_ready'},\n",
    "    6: {'name': 'Roads_Highways', 'description': 'Major highways and road networks', 'source': 'Highways_production_ready'},\n",
    "    7: {'name': 'Land_Stock', 'description': 'Land stock and reserves', 'source': 'LandStock_production_ready'},\n",
    "    8: {'name': 'Non_Residential', 'description': 'Non-residential buildings and facilities', 'source': 'NotResidential_production_ready'},\n",
    "    9: {'name': 'Protected', 'description': 'Protected areas (context-dependent: varies by elevation and terrain)', 'source': 'ProtectedAreas_production_ready'},\n",
    "    10: {'name': 'Railways', 'description': 'Railway lines and infrastructure', 'source': 'Railways_production_ready'},\n",
    "    11: {'name': 'Shared_Lands', 'description': 'Shared and communal lands', 'source': 'SharedLands_production_ready'},\n",
    "    12: {'name': 'Water', 'description': 'Water bodies, rivers, and lakes', 'source': 'Water_production_ready'}\n",
    "}\n",
    "\n",
    "# Define contextual features for terrain-dependent classification\n",
    "CONTEXTUAL_FEATURES = {\n",
    "    'elevation_thresholds': {\n",
    "        'flat': (0, 500),      # 0-500m: desert/steppe context\n",
    "        'hilly': (500, 1500),  # 500-1500m: mixed terrain\n",
    "        'mountain': (1500, 5000)  # 1500m+: mountain context with forests/shrubs\n",
    "    },\n",
    "    'ndvi_thresholds': {\n",
    "        'bare': (-1, 0.1),     # Very low vegetation\n",
    "        'sparse': (0.1, 0.3),  # Sparse vegetation\n",
    "        'moderate': (0.3, 0.6), # Moderate vegetation\n",
    "        'dense': (0.6, 1.0)    # Dense vegetation\n",
    "    }\n",
    "}\n",
    "\n",
    "print(\"🎯 Uzbekistan Land Cover Classes (12 classes):\")\n",
    "for class_id, class_info in UZBEKISTAN_LAND_COVER_CLASSES.items():\n",
    "    print(f\"   {class_id:2d}. {class_info['name']:18} - {class_info['description']}\")\n",
    "\n",
    "print(f\"\\n📍 Training data file: landcover_training.geojson\")\n",
    "print(f\"🏔️  Context-dependent classes: Forest (4), Protected (9)\")\n",
    "print(f\"📊 Features: Spectral bands + NDVI + Elevation + Terrain context\")"
   ]
  },
  {
   "cell_type": "markdown",
   "id": "37b8b1a3",
   "metadata": {},
   "source": [
    "# Step 3: Load and Analyze Training Data"
   ]
  },
  {
   "cell_type": "code",
   "execution_count": 7,
   "id": "5d515dee",
   "metadata": {},
   "outputs": [
    {
     "data": {
      "text/html": [
       "\n",
       "            <style>\n",
       "                .geemap-dark {\n",
       "                    --jp-widgets-color: white;\n",
       "                    --jp-widgets-label-color: white;\n",
       "                    --jp-ui-font-color1: white;\n",
       "                    --jp-layout-color2: #454545;\n",
       "                    background-color: #383838;\n",
       "                }\n",
       "\n",
       "                .geemap-dark .jupyter-button {\n",
       "                    --jp-layout-color3: #383838;\n",
       "                }\n",
       "\n",
       "                .geemap-colab {\n",
       "                    background-color: var(--colab-primary-surface-color, white);\n",
       "                }\n",
       "\n",
       "                .geemap-colab .jupyter-button {\n",
       "                    --jp-layout-color3: var(--colab-primary-surface-color, white);\n",
       "                }\n",
       "            </style>\n",
       "            "
      ],
      "text/plain": [
       "<IPython.core.display.HTML object>"
      ]
     },
     "metadata": {},
     "output_type": "display_data"
    },
    {
     "name": "stdout",
     "output_type": "stream",
     "text": [
      "📂 Loading training data: d:\\Dev\\classification\\data\\training\\landcover_training.geojson\n",
      "✅ Training data loaded successfully!\n",
      "   📊 Total features: 198,615\n",
      "   🗂️  Columns: ['layer', 'path', 'class', 'layer_id', 'Area', 'geometry']\n",
      "   🌍 CRS: EPSG:4326\n",
      "\n",
      "📈 Training Data Layer Distribution:\n",
      "    1. Residential       : 32,839 features\n",
      "    2. Agriculture       : 30,035 features\n",
      "    3. Buildings         : 39,974 features\n",
      "    4. Forest            :  3,414 features\n",
      "    5. Residential_Private: 19,591 features\n",
      "    6. Roads_Highways    : 19,992 features\n",
      "    7. Land_Stock        : 12,721 features\n",
      "    8. Non_Residential   : 19,993 features\n",
      "    9. Protected         :     71 features\n",
      "   10. Railways          :      5 features\n",
      "   11. Shared_Lands      :  9,982 features\n",
      "   12. Water             :  9,998 features\n"
     ]
    }
   ],
   "source": [
    "# Load and analyze the training GeoJSON file\n",
    "training_geojson = os.path.join(training_dir, \"landcover_training.geojson\")\n",
    "\n",
    "if os.path.exists(training_geojson):\n",
    "    print(f\"📂 Loading training data: {training_geojson}\")\n",
    "    \n",
    "    try:\n",
    "        # Load the GeoJSON file\n",
    "        training_gdf = gpd.read_file(training_geojson)\n",
    "        \n",
    "        print(f\"✅ Training data loaded successfully!\")\n",
    "        print(f\"   📊 Total features: {len(training_gdf):,}\")\n",
    "        print(f\"   🗂️  Columns: {list(training_gdf.columns)}\")\n",
    "        print(f\"   🌍 CRS: {training_gdf.crs}\")\n",
    "        \n",
    "        # Analyze the class distribution\n",
    "        if 'layer_id' in training_gdf.columns:\n",
    "            layer_counts = training_gdf['layer_id'].value_counts().sort_index()\n",
    "            print(f\"\\n📈 Training Data Layer Distribution:\")\n",
    "            for layer_id, count in layer_counts.items():\n",
    "                if layer_id in UZBEKISTAN_LAND_COVER_CLASSES:\n",
    "                    class_name = UZBEKISTAN_LAND_COVER_CLASSES[layer_id]['name']\n",
    "                    print(f\"   {layer_id:2d}. {class_name:18}: {count:6,} features\")\n",
    "        \n",
    "        training_data_available = True\n",
    "        \n",
    "    except Exception as e:\n",
    "        print(f\"❌ Error loading training data: {e}\")\n",
    "        training_data_available = False\n",
    "        \n",
    "else:\n",
    "    print(f\"❌ Training data not found: {training_geojson}\")\n",
    "    print(\"📥 Please ensure landcover_training.geojson is in the training directory\")\n",
    "    training_data_available = False"
   ]
  },
  {
   "cell_type": "markdown",
   "id": "e0aec57f",
   "metadata": {},
   "source": [
    "# Step 4: Create GEE Satellite Composite"
   ]
  },
  {
   "cell_type": "code",
   "execution_count": 8,
   "id": "550048b4",
   "metadata": {},
   "outputs": [
    {
     "data": {
      "text/html": [
       "\n",
       "            <style>\n",
       "                .geemap-dark {\n",
       "                    --jp-widgets-color: white;\n",
       "                    --jp-widgets-label-color: white;\n",
       "                    --jp-ui-font-color1: white;\n",
       "                    --jp-layout-color2: #454545;\n",
       "                    background-color: #383838;\n",
       "                }\n",
       "\n",
       "                .geemap-dark .jupyter-button {\n",
       "                    --jp-layout-color3: #383838;\n",
       "                }\n",
       "\n",
       "                .geemap-colab {\n",
       "                    background-color: var(--colab-primary-surface-color, white);\n",
       "                }\n",
       "\n",
       "                .geemap-colab .jupyter-button {\n",
       "                    --jp-layout-color3: var(--colab-primary-surface-color, white);\n",
       "                }\n",
       "            </style>\n",
       "            "
      ],
      "text/plain": [
       "<IPython.core.display.HTML object>"
      ]
     },
     "metadata": {},
     "output_type": "display_data"
    },
    {
     "name": "stdout",
     "output_type": "stream",
     "text": [
      "🛰️  Creating Uzbekistan satellite composite with contextual data...\n",
      "✅ Found 1120 Landsat images\n",
      "✅ Composite created with bands:\n",
      "    1. SR_B1\n",
      "    2. SR_B2\n",
      "    3. SR_B3\n",
      "    4. SR_B4\n",
      "    5. SR_B5\n",
      "    6. SR_B6\n",
      "    7. SR_B7\n",
      "    8. NDVI\n",
      "    9. elevation\n",
      "   10. SLOPE\n",
      "   11. TERRAIN_MOUNTAIN\n"
     ]
    }
   ],
   "source": [
    "# Simplified Google Earth Engine processing for Uzbekistan\n",
    "def create_uzbekistan_composite_with_context():\n",
    "    \"\"\"Create a composite image with spectral bands, NDVI, and elevation for Uzbekistan\"\"\"\n",
    "    \n",
    "    print(\"🛰️  Creating Uzbekistan satellite composite with contextual data...\")\n",
    "    \n",
    "    try:\n",
    "        # Define Uzbekistan geometry\n",
    "        uzbekistan_bounds = ee.Geometry.Rectangle([55.9, 37.2, 73.2, 45.6])\n",
    "        \n",
    "        # Load Landsat 8 Collection 2 Surface Reflectance\n",
    "        landsat = ee.ImageCollection('LANDSAT/LC08/C02/T1_L2') \\\n",
    "                    .filterBounds(uzbekistan_bounds) \\\n",
    "                    .filterDate('2023-01-01', '2023-12-31') \\\n",
    "                    .filter(ee.Filter.lt('CLOUD_COVER', 20)) \\\n",
    "                    .map(lambda img: img.clip(uzbekistan_bounds))\n",
    "        \n",
    "        print(f\"✅ Found {landsat.size().getInfo()} Landsat images\")\n",
    "        \n",
    "        # Create median composite\n",
    "        composite = landsat.median()\n",
    "        \n",
    "        # Select and scale surface reflectance bands\n",
    "        optical_bands = composite.select(['SR_B1', 'SR_B2', 'SR_B3', 'SR_B4', 'SR_B5', 'SR_B6', 'SR_B7']) \\\n",
    "                                .multiply(0.0000275).add(-0.2)\n",
    "        \n",
    "        # Calculate spectral indices\n",
    "        ndvi = optical_bands.normalizedDifference(['SR_B5', 'SR_B4']).rename('NDVI')\n",
    "        \n",
    "        # Add elevation data (SRTM)\n",
    "        elevation = ee.Image('USGS/SRTMGL1_003').select('elevation').clip(uzbekistan_bounds)\n",
    "        \n",
    "        # Calculate slope from elevation\n",
    "        slope = ee.Terrain.slope(elevation).rename('SLOPE')\n",
    "        \n",
    "        # Create terrain context layers\n",
    "        elevation_mountain = elevation.gte(1500).rename('TERRAIN_MOUNTAIN')\n",
    "        \n",
    "        # Combine all bands into final composite\n",
    "        final_composite = optical_bands \\\n",
    "                         .addBands(ndvi) \\\n",
    "                         .addBands(elevation) \\\n",
    "                         .addBands(slope) \\\n",
    "                         .addBands(elevation_mountain)\n",
    "        \n",
    "        print(\"✅ Composite created with bands:\")\n",
    "        band_names = final_composite.bandNames().getInfo()\n",
    "        for i, band in enumerate(band_names):\n",
    "            print(f\"   {i+1:2d}. {band}\")\n",
    "        \n",
    "        return final_composite, uzbekistan_bounds\n",
    "        \n",
    "    except Exception as e:\n",
    "        print(f\"❌ Error creating composite: {e}\")\n",
    "        return None, None\n",
    "\n",
    "# Create the composite if GEE is ready\n",
    "if gee_ready:\n",
    "    composite_image, uzbekistan_geom = create_uzbekistan_composite_with_context()\n",
    "else:\n",
    "    print(\"❌ Google Earth Engine not ready\")"
   ]
  },
  {
   "cell_type": "markdown",
   "id": "7a692840",
   "metadata": {},
   "source": [
    "# Step 5: Extract Training Features"
   ]
  },
  {
   "cell_type": "code",
   "execution_count": null,
   "id": "930f8cf3",
   "metadata": {},
   "outputs": [
    {
     "data": {
      "text/html": [
       "\n",
       "            <style>\n",
       "                .geemap-dark {\n",
       "                    --jp-widgets-color: white;\n",
       "                    --jp-widgets-label-color: white;\n",
       "                    --jp-ui-font-color1: white;\n",
       "                    --jp-layout-color2: #454545;\n",
       "                    background-color: #383838;\n",
       "                }\n",
       "\n",
       "                .geemap-dark .jupyter-button {\n",
       "                    --jp-layout-color3: #383838;\n",
       "                }\n",
       "\n",
       "                .geemap-colab {\n",
       "                    background-color: var(--colab-primary-surface-color, white);\n",
       "                }\n",
       "\n",
       "                .geemap-colab .jupyter-button {\n",
       "                    --jp-layout-color3: var(--colab-primary-surface-color, white);\n",
       "                }\n",
       "            </style>\n",
       "            "
      ],
      "text/plain": [
       "<IPython.core.display.HTML object>"
      ]
     },
     "metadata": {},
     "output_type": "display_data"
    },
    {
     "name": "stdout",
     "output_type": "stream",
     "text": [
      "📊 Extracting training features from GeoJSON...\n",
      "❌ Error extracting training features: Request payload size exceeds the limit: 10485760 bytes.\n"
     ]
    }
   ],
   "source": [
    "# Extract training features from GeoJSON with spectral and contextual data\n",
    "def extract_training_features_simplified():\n",
    "    \"\"\"Extract features from training polygons using the composite image, processing in chunks.\"\"\"\n",
    "    \n",
    "    if not training_data_available or not gee_ready or composite_image is None:\n",
    "        print(\"❌ Prerequisites not met for feature extraction\")\n",
    "        return None, None\n",
    "    \n",
    "    print(\"📊 Extracting training features from GeoJSON in chunks to avoid payload size limits...\")\n",
    "    \n",
    "    try:\n",
    "        chunk_size = 500  # Process 500 features at a time\n",
    "        num_features = len(training_gdf)\n",
    "        all_samples = ee.FeatureCollection([]) # Start with an empty collection\n",
    "\n",
    "        print(f\"⚙️  Total features to process: {num_features}. Processing in chunks of {chunk_size}.\")\n",
    "\n",
    "        for i in range(0, num_features, chunk_size):\n",
    "            chunk_gdf = training_gdf.iloc[i:i + chunk_size]\n",
    "            print(f\"   - Processing chunk {i//chunk_size + 1}: features {i} to {i + len(chunk_gdf) - 1}\")\n",
    "            \n",
    "            # Convert chunk to Earth Engine FeatureCollection\n",
    "            chunk_fc = geemap.geopandas_to_ee(chunk_gdf)\n",
    "            \n",
    "            # Sample the image for the chunk\n",
    "            chunk_sample = composite_image.sampleRegions(\n",
    "                collection=chunk_fc,\n",
    "                properties=['layer_id'],\n",
    "                scale=30,\n",
    "                geometries=True\n",
    "            )\n",
    "            \n",
    "            # Merge the chunk's samples into the main collection\n",
    "            all_samples = all_samples.merge(chunk_sample)\n",
    "\n",
    "        print(f\"✅ All chunks processed successfully.\")\n",
    "        \n",
    "        sample_size = all_samples.size()\n",
    "        print(f\"📈 Extracted {sample_size.getInfo()} total training samples (pixels)\")\n",
    "        \n",
    "        # Export the combined training data to CSV\n",
    "        export_task = ee.batch.Export.table.toDrive(\n",
    "            collection=all_samples,\n",
    "            description=f'uzbekistan_training_features_{timestamp}',\n",
    "            fileFormat='CSV',\n",
    "            folder='earthengine_exports'\n",
    "        )\n",
    "        \n",
    "        export_task.start()\n",
    "        print(f\"✅ Training data export started: uzbekistan_training_features_{timestamp}.csv\")\n",
    "        print(f\"📥 Check Google Drive folder 'earthengine_exports' for the CSV file\")\n",
    "        \n",
    "        return all_samples, export_task\n",
    "        \n",
    "    except Exception as e:\n",
    "        print(f\"❌ Error extracting training features: {e}\")\n",
    "        return None, None\n",
    "\n",
    "# Extract training features\n",
    "if training_data_available and gee_ready and 'composite_image' in locals():\n",
    "    training_samples, export_task = extract_training_features_simplified()\n",
    "else:\n",
    "    print(\"⏭️  Skipping feature extraction - missing prerequisites\")"
   ]
  },
  {
   "cell_type": "markdown",
   "id": "3370086c",
   "metadata": {},
   "source": [
    "# Step 6: Summary and Next Steps"
   ]
  },
  {
   "cell_type": "code",
   "execution_count": null,
   "id": "cb70e9fe",
   "metadata": {},
   "outputs": [],
   "source": [
    "# Summary and next steps for simplified Uzbekistan classification\n",
    "print(\"=\"*70)\n",
    "print(\"🌍 SIMPLIFIED UZBEKISTAN LAND COVER CLASSIFICATION SUMMARY\")\n",
    "print(\"=\"*70)\n",
    "\n",
    "print(f\"\\n📂 Data Configuration:\")\n",
    "print(f\"   • Training file: landcover_training.geojson\")\n",
    "print(f\"   • Classes: 12 specific Uzbekistan land cover types\")\n",
    "print(f\"   • Context-aware: Forest and Protected areas\")\n",
    "\n",
    "print(f\"\\n📊 Workflow Status:\")\n",
    "workflow_components = [\n",
    "    (\"Google Earth Engine\", gee_ready),\n",
    "    (\"Training Data\", training_data_available if 'training_data_available' in locals() else False),\n",
    "    (\"Composite Image\", 'composite_image' in locals() and composite_image is not None),\n",
    "    (\"Feature Extraction Task\", 'export_task' in locals())\n",
    "]\n",
    "\n",
    "for component, status in workflow_components:\n",
    "    status_icon = \"✅\" if status else \"❌\"\n",
    "    print(f\"   {status_icon} {component}\")\n",
    "\n",
    "print(f\"\\n🚀 Next Steps:\")\n",
    "if 'export_task' in locals() and export_task:\n",
    "    print(f\"   1. ⏳ Monitor the export task in your Google Earth Engine account.\")\n",
    "    print(f\"   2. 📥 Once complete, download the CSV file from your Google Drive 'earthengine_exports' folder.\")\n",
    "    print(f\"   3. 🤖 Use the CSV to train a machine learning model (e.g., RandomForest) locally.\")\n",
    "    print(f\"   4. 🗺️  Apply the trained model to classify the full Uzbekistan satellite imagery.\")\n",
    "else:\n",
    "    print(f\"   1. 🔄 Resolve any errors in the cells above and re-run the notebook.\")\n",
    "\n",
    "print(\"=\"*70)"
   ]
  }
 ],
 "metadata": {
  "kernelspec": {
   "display_name": "scraper",
   "language": "python",
   "name": "python3"
  },
  "language_info": {
   "codemirror_mode": {
    "name": "ipython",
    "version": 3
   },
   "file_extension": ".py",
   "mimetype": "text/x-python",
   "name": "python",
   "nbconvert_exporter": "python",
   "pygments_lexer": "ipython3",
   "version": "3.8.18"
  }
 },
 "nbformat": 4,
 "nbformat_minor": 5
}
