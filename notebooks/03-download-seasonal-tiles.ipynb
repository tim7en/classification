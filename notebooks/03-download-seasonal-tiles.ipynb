{
 "cells": [
  {
   "cell_type": "markdown",
   "id": "ef14705c",
   "metadata": {},
   "source": [
    "# Step 1: Setup and Initialization\n",
    "\n",
    "This cell imports the necessary libraries, sets up the project paths, and authenticates with Google Earth Engine (GEE). Run this cell first to prepare the environment."
   ]
  },
  {
   "cell_type": "markdown",
   "id": "5374b160",
   "metadata": {},
   "source": [
    "import ee\n",
    "import geemap\n",
    "import os\n",
    "import sys\n",
    "from datetime import datetime, timedelta\n",
    "from pathlib import Path\n",
    "\n",
    "def initialize_gee():\n",
    "    \"\"\"Authenticates and initializes the Google Earth Engine library.\"\"\"\n",
    "    try:\n",
    "        # A simple check to see if GEE is already initialized.\n",
    "        ee.Image.constant(0).getInfo()\n",
    "        print('✅ GEE is already authenticated and initialized.')\n",
    "    except Exception:\n",
    "        print('🔑 Authenticating and initializing GEE...')\n",
    "        try:\n",
    "            ee.Authenticate()\n",
    "            ee.Initialize()\n",
    "            print('✅ GEE authenticated and initialized successfully!')\n",
    "        except Exception as e:\n",
    "            print(f'❌ GEE initialization failed: {e}')\n",
    "            # In a notebook, we might not want to exit, just raise the error\n",
    "            raise e\n",
    "\n",
    "# Run the initialization\n",
    "initialize_gee()\n",
    "\n",
    "# --- Configuration ---\n",
    "# Define project paths. Assumes the notebook is in the 'notebooks' directory.\n",
    "project_root = Path.cwd().parent\n",
    "download_dir = project_root / 'data' / 'downloaded_tiles'\n",
    "download_dir.mkdir(parents=True, exist_ok=True)\n",
    "\n",
    "print(f\"\\n📂 Files will be saved to: {download_dir}\")"
   ]
  },
  {
   "cell_type": "markdown",
   "id": "52d86f1f",
   "metadata": {},
   "source": [
    "# Step 2: Define Download Parameters\n",
    "\n",
    "This cell defines the geographical area of interest (Uzbekistan) and the time periods for which we want to download satellite imagery. You can customize the `date_ranges` dictionary to add or change the periods."
   ]
  },
  {
   "cell_type": "markdown",
   "id": "8eb08b3a",
   "metadata": {},
   "source": [
    "# Define the Area of Interest (AOI) for Uzbekistan\n",
    "uzbekistan_bounds = ee.Geometry.Rectangle([55.9, 37.2, 73.2, 45.6])\n",
    "\n",
    "# Define date ranges for the tiles you want to download\n",
    "today = datetime.now()\n",
    "date_ranges = {\n",
    "    'recent_3_months': (\n",
    "        (today - timedelta(days=90)).strftime('%Y-%m-%d'),\n",
    "        today.strftime('%Y-%m-%d')\n",
    "    ),\n",
    "    'summer_2023': ('2023-06-01', '2023-08-31'),\n",
    "    'winter_2023_2024': ('2023-12-01', '2024-02-29'),\n",
    "}\n",
    "\n",
    "print(\"🗓️  Date ranges for download:\")\n",
    "for period, (start, end) in date_ranges.items():\n",
    "    print(f\"   - {period}: {start} to {end}\")"
   ]
  },
  {
   "cell_type": "markdown",
   "id": "f1399060",
   "metadata": {},
   "source": [
    "# Step 3: Process and Download Tiles\n",
    "\n",
    "This is the main processing cell. It iterates through each defined period, finds the least cloudy Landsat 8 image, and downloads it as a GeoTIFF file to the `data/downloaded_tiles` directory."
   ]
  },
  {
   "cell_type": "markdown",
   "id": "e8418d18",
   "metadata": {},
   "source": [
    "def get_least_cloudy_image(collection, region):\n",
    "    \"\"\"\n",
    "    Filters an ImageCollection to get the single least cloudy image.\n",
    "    \"\"\"\n",
    "    return collection.sort('CLOUD_COVER').first().clip(region)\n",
    "\n",
    "def download_gee_tile(image, region, filename, scale=30):\n",
    "    \"\"\"\n",
    "    Downloads a GEE Image to a local GeoTIFF file.\n",
    "    \"\"\"\n",
    "    print(f\"🛰️  Starting download for: {os.path.basename(filename)}\")\n",
    "    try:\n",
    "        geemap.ee_export_image(\n",
    "            image,\n",
    "            filename=str(filename), # geemap expects a string path\n",
    "            scale=scale,\n",
    "            region=region,\n",
    "            file_per_band=False  # Export as a single multi-band GeoTIFF\n",
    "        )\n",
    "        print(f\"✅ Successfully downloaded: {filename}\")\n",
    "    except Exception as e:\n",
    "        print(f\"❌ Error downloading {os.path.basename(filename)}: {e}\")\n",
    "\n",
    "# --- Processing ---\n",
    "# Base Landsat 8 Collection 2, Surface Reflectance\n",
    "landsat_collection = ee.ImageCollection('LANDSAT/LC08/C02/T1_L2') \\\n",
    "    .filterBounds(uzbekistan_bounds)\n",
    "\n",
    "for period, (start_date, end_date) in date_ranges.items():\n",
    "    print(f\"\\n🔎 Processing period: {period} ({start_date} to {end_date})\")\n",
    "    \n",
    "    # Filter the collection for the specific date range and low cloud cover\n",
    "    period_collection = landsat_collection \\\n",
    "        .filterDate(start_date, end_date) \\\n",
    "        .filter(ee.Filter.lt('CLOUD_COVER', 20))\n",
    "\n",
    "    image_count = period_collection.size().getInfo()\n",
    "    if image_count == 0:\n",
    "        print(f\"   - ⚠️ No images found for this period. Skipping.\")\n",
    "        continue\n",
    "    \n",
    "    print(f\"   - ✅ Found {image_count} images for this period.\")\n",
    "\n",
    "    # Get the best (least cloudy) image from the filtered collection\n",
    "    best_image = get_least_cloudy_image(period_collection, uzbekistan_bounds)\n",
    "    \n",
    "    # Select and scale the optical bands for analysis\n",
    "    output_image = best_image.select(['SR_B1', 'SR_B2', 'SR_B3', 'SR_B4', 'SR_B5', 'SR_B6', 'SR_B7']) \\\n",
    "                             .multiply(0.0000275).add(-0.2)\n",
    "\n",
    "    # Define the output filename and download the tile\n",
    "    output_filename = download_dir / f'uzbekistan_tile_{period}.tif'\n",
    "    download_gee_tile(output_image, uzbekistan_bounds, output_filename, scale=30)\n",
    "\n",
    "print(\"\\n🎉 All download tasks are complete.\")"
   ]
  }
 ],
 "metadata": {
  "language_info": {
   "name": "python"
  }
 },
 "nbformat": 4,
 "nbformat_minor": 5
}
